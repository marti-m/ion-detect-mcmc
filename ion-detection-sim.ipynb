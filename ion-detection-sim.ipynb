{
 "cells": [
  {
   "cell_type": "markdown",
   "metadata": {},
   "source": [
    "Ion simulation"
   ]
  },
  {
   "cell_type": "code",
   "execution_count": null,
   "metadata": {},
   "outputs": [],
   "source": [
    "import numpy as np\n",
    "import matplotlib.pyplot as plt\n",
    "\n",
    "from PyonDetect.ion.ion import Ion, BerylliumIon, CalciumIon\n",
    "from PyonDetect.estimator.estimator import EntropyGainEstimator, MinExpectedBinsEstimator, ThresholdingEstimator, AdaptiveMLEstimator, NonPoissonianAdaptiveMLEstimator\n",
    "from PyonDetect.environment.environment import SimulationEnvironment"
   ]
  },
  {
   "cell_type": "code",
   "execution_count": null,
   "metadata": {},
   "outputs": [],
   "source": [
    "# initialize simulation environment\n",
    "R_D = 0.1 / 200 # per us\n",
    "R_B = 25 / 200 #per us\n",
    "initial_state = 1 # start in dark state\n",
    "n_subbins = 30\n",
    "t_detection = 200 # us\n",
    "\n",
    "ion = Ion(initial_state, R_dark=R_D, R_bright=R_B)\n",
    "estimator = MinExpectedBinsEstimator(R_D=R_D, R_B=R_B, e_c=1e-4, n_subbins_max=n_subbins, save_trajectory=True)\n",
    "env = SimulationEnvironment([ion], [estimator], detection_time=t_detection, n_subbins=n_subbins, n_repetition=10000)"
   ]
  },
  {
   "cell_type": "code",
   "execution_count": null,
   "metadata": {},
   "outputs": [],
   "source": [
    "# let simulation run\n",
    "env.run()"
   ]
  },
  {
   "cell_type": "code",
   "execution_count": null,
   "metadata": {},
   "outputs": [],
   "source": [
    "# save data to files\n",
    "env.save_to_csv()\n",
    "env.save_to_json()"
   ]
  },
  {
   "cell_type": "code",
   "execution_count": null,
   "metadata": {},
   "outputs": [],
   "source": [
    "stats = env.get_stats()\n",
    "traj = env.get_trajectories()\n",
    "print(np.mean(stats['n_pi_pulses_0']))"
   ]
  },
  {
   "cell_type": "code",
   "execution_count": null,
   "metadata": {},
   "outputs": [],
   "source": [
    "## some fun\n",
    "e_c = 1e-4\n",
    "ln_beta_ec = np.log((1 - e_c) / e_c)\n",
    "R_B = 10 / 200 # per us\n",
    "R_D = 1 / 200 # per us\n",
    "delta_R = R_B - R_D\n",
    "\n",
    "t_bin = 4\n",
    "def alpha(R_B, t_bin):\n",
    "    a = np.exp(-R_B * t_bin)\n",
    "    coeff_alpha = 1 / (1 - a)\n",
    "    return coeff_alpha\n",
    "\n",
    "p_b = np.linspace(0.001, 0.999, 1000)\n",
    "def decision(p_b, R_B, t_bin):\n",
    "    return (1 - 2 * p_b) * (alpha(R_B, t_bin) - np.ceil((ln_beta_ec - np.log(p_b / (1-p_b))) / (delta_R * t_bin)))\n",
    "plt.plot(p_b, decision(p_b, R_B, t_bin))\n",
    "threshold_idx = np.argwhere(decision(p_b, R_B, t_bin) < 0)\n",
    "print(threshold_idx)"
   ]
  },
  {
   "cell_type": "code",
   "execution_count": null,
   "metadata": {},
   "outputs": [],
   "source": [
    "t_detection = 200\n",
    "n_bins = np.arange(5, 30)\n",
    "print(n_bins)\n",
    "t_bin = t_detection / n_bins\n",
    "print(t_bin)\n",
    "plt.scatter(200/t_bin, t_bin * alpha(R_B, t_bin))\n",
    "print(200/t_bin, t_bin * alpha(R_B, t_bin))"
   ]
  },
  {
   "cell_type": "code",
   "execution_count": null,
   "metadata": {},
   "outputs": [],
   "source": [
    "# run test\n",
    "\n",
    "def run_environment(n_bins, initial_state):\n",
    "    R_D = 0 / 200 # per us\n",
    "    R_B = 25 / 200 # per us\n",
    "    e_c = 1e-4\n",
    "    t_detection = 200\n",
    "    ions = [Ion(initial_state, R_dark=R_D, R_bright=R_B) for i in range(3)]\n",
    "    estimator1 = MinExpectedBinsEstimator(R_D=R_D, R_B=R_B, e_c=e_c, n_subbins_max=n_bins, save_trajectory=False)\n",
    "    estimator2 = AdaptiveMLEstimator(R_D=R_D, R_B=R_B, e_c=e_c, n_subbins_max=n_bins, save_trajectory=False)\n",
    "    estimator3 = EntropyGainEstimator(R_D=R_D, R_B=R_B, e_c=e_c, n_subbins_max=n_bins, n_counts_max=10, save_trajectory=False)\n",
    "    estimators = [estimator1, estimator2, estimator3]\n",
    "    env = SimulationEnvironment(ions, estimators, detection_time=t_detection, n_subbins=n_bins, n_repetition=100)\n",
    "    env.run()\n",
    "    env.save_to_csv()"
   ]
  },
  {
   "cell_type": "code",
   "execution_count": null,
   "metadata": {},
   "outputs": [],
   "source": [
    "run_environment(10, 1)"
   ]
  },
  {
   "cell_type": "code",
   "execution_count": null,
   "metadata": {},
   "outputs": [],
   "source": []
  }
 ],
 "metadata": {
  "kernelspec": {
   "display_name": "Python 3",
   "language": "python",
   "name": "python3"
  },
  "language_info": {
   "codemirror_mode": {
    "name": "ipython",
    "version": 3
   },
   "file_extension": ".py",
   "mimetype": "text/x-python",
   "name": "python",
   "nbconvert_exporter": "python",
   "pygments_lexer": "ipython3",
   "version": "3.7.4"
  }
 },
 "nbformat": 4,
 "nbformat_minor": 5
}
