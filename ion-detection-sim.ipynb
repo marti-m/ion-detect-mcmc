{
 "cells": [
  {
   "cell_type": "markdown",
   "metadata": {},
   "source": [
    "Ion simulation"
   ]
  },
  {
   "cell_type": "code",
   "execution_count": 1,
   "metadata": {},
   "outputs": [],
   "source": [
    "import numpy as np\n",
    "import matplotlib.pyplot as plt\n",
    "import json\n",
    "\n",
    "from PyonDetect.ion.ion import Ion, BerylliumIon, CalciumIon\n",
    "from PyonDetect.estimator.estimator import EntropyGainEstimator, ThresholdingEstimator, AdaptiveMLEstimator, NonPoissonianAdaptiveMLEstimator\n",
    "from PyonDetect.environment.environment import SimulationEnvironment"
   ]
  },
  {
   "cell_type": "code",
   "execution_count": 2,
   "metadata": {},
   "outputs": [],
   "source": [
    "# initialize simulation environment\n",
    "R_D = 0 / 200 # per us\n",
    "R_B = 25 / 200 #per us\n",
    "initial_state = 1 # start in dark state\n",
    "n_subbins = 20\n",
    "t_detection = 200 # us\n",
    "\n",
    "ion = Ion(initial_state, R_dark=R_D, R_bright=R_B)\n",
    "estimator = AdaptiveMLEstimator(R_D=R_D, R_B=R_B, e_c=1e-4, n_subbins_max=n_subbins, save_trajectory=True)\n",
    "env = SimulationEnvironment([ion], [estimator], detection_time=t_detection, n_subbins=n_subbins, n_repetition=100)"
   ]
  },
  {
   "cell_type": "code",
   "execution_count": 3,
   "metadata": {},
   "outputs": [],
   "source": [
    "# let simulation run\n",
    "env.run()"
   ]
  },
  {
   "cell_type": "code",
   "execution_count": 4,
   "metadata": {},
   "outputs": [],
   "source": [
    "# save data to files\n",
    "env.save_to_csv()\n",
    "env.save_to_json()"
   ]
  },
  {
   "cell_type": "code",
   "execution_count": null,
   "metadata": {},
   "outputs": [],
   "source": []
  }
 ],
 "metadata": {
  "kernelspec": {
   "display_name": "Python 3",
   "language": "python",
   "name": "python3"
  },
  "language_info": {
   "codemirror_mode": {
    "name": "ipython",
    "version": 3
   },
   "file_extension": ".py",
   "mimetype": "text/x-python",
   "name": "python",
   "nbconvert_exporter": "python",
   "pygments_lexer": "ipython3",
   "version": "3.7.4"
  }
 },
 "nbformat": 4,
 "nbformat_minor": 5
}
