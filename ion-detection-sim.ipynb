{
 "cells": [
  {
   "cell_type": "markdown",
   "metadata": {},
   "source": [
    "Ion simulation"
   ]
  },
  {
   "cell_type": "code",
   "execution_count": 2,
   "metadata": {},
   "outputs": [],
   "source": [
    "import numpy as np\n",
    "from scipy.stats import poisson\n",
    "import random\n",
    "import matplotlib.pyplot as plt"
   ]
  },
  {
   "cell_type": "code",
   "execution_count": null,
   "metadata": {},
   "outputs": [],
   "source": [
    "R_B = 20 / 200  #Bright state rate counts per 200us detection time (now per microseconds)\n",
    "R_D = 0.1 / 200\n",
    "p_bitflip_success=0.9\n",
    "ion = CalciumIon(0, R_D, R_B)\n",
    "\n",
    "photon_bins = np.zeros(100)\n",
    "trials = 100000\n",
    "for i in range(trials):\n",
    "    ion = CalciumIon(0, R_D, R_B)\n",
    "    ion.update_ion(200, 1)\n",
    "    n_photons = ion.get_photon_counts()\n",
    "    photon_bins[int(n_photons)]+=1\n",
    "    \n",
    "probab = photon_bins / trials\n",
    "plt.semilogy(probab)"
   ]
  },
  {
   "cell_type": "code",
   "execution_count": null,
   "metadata": {},
   "outputs": [],
   "source": [
    "def update_likelihood(rho_previous, new_counts, mu):\n",
    "    \"\"\" at step S the likelihood is the product of poissonian distribution\"\"\"\n",
    "    return rho_previous * poisson.pmf(new_counts,mu)\n",
    "\n",
    "def get_probabilities(rho_D, rho_B):\n",
    "    \"\"\"The probability of being bright is calculated with bayes rule.\"\"\"\n",
    "    s = rho_D + rho_B\n",
    "    return (rho_D/s, rho_B/s)\n",
    "\n",
    "def get_entropy(PD, PB):\n",
    "    \"\"\"returns the expected entropy value given the probability distribution\"\"\"\n",
    "    H = -( PD*np.log(PD) + PB*np.log(PB)) \n",
    "    return H\n",
    "\n",
    "def update_ion(current_state, pi_pulse=False, p_bitflip_success=0.99, RD=0.1/200, RB=20/200, dt = 10):\n",
    "    \"\"\"Returns the state and photon count at the end of a detection bin period\"\"\"\n",
    "    # if pi pulse is applied, see if successful\n",
    "    if pi_pulse:\n",
    "        rand = random.random()\n",
    "        if rand < p_bitflip_success:\n",
    "            next_state = 1 - current_state # qubit flip\n",
    "        else:\n",
    "            next_state = current_state\n",
    "    else:\n",
    "        next_state = current_state\n",
    "        \n",
    "    # additional dynamics like leakage\n",
    "    \n",
    "        \n",
    "    # calculate photon counts\n",
    "    ## get mean\n",
    "    mu = dt * (RD + next_state * RB) # RB gets added to the dark photon count if state == 1\n",
    "    n_photons = np.random.poisson(mu)\n",
    "            \n",
    "    return next_state, n_photons\n",
    "\n",
    "def is_pi_pulse_needed(rho_smin_B, rho_smin_D, mu_B, mu_D):\n",
    "    \"\"\"rho_smin_B, rho_smin_D are the likelihood at the previous step\"\"\"\n",
    "    H_diff_tot=0\n",
    "    max_n=10\n",
    "    for ns in range(0,max_n):\n",
    "        # calculate the possible likelihoods if we apply or not a pi pulse\n",
    "        rho_s_B = update_likelihood(rho_smin_B, ns, mu_B)\n",
    "        rho_s_D = update_likelihood(rho_smin_D, ns, mu_D)\n",
    "        \n",
    "        rho_sPi_B = update_likelihood(rho_smin_B, ns, mu_D) # if we were to apply a pi pulse\n",
    "        rho_sPi_D = update_likelihood(rho_smin_D, ns, mu_B)\n",
    "        # calculate the associated probabilities\n",
    "        (P_s_D, P_s_B) = get_probabilities(rho_s_D, rho_s_B)\n",
    "        (P_sPi_D, P_sPi_B) = get_probabilities(rho_sPi_D, rho_sPi_B)\n",
    "        \n",
    "        #calculate the entropies\n",
    "        H_s = get_entropy(P_s_D, P_s_B)\n",
    "        H_sPi = get_entropy(P_sPi_D, P_sPi_B)\n",
    "        \n",
    "        H_diff_tot =H_diff_tot + (H_sPi- H_s)*(poisson.pmf(ns,mu_B)+poisson.pmf(ns,mu_D))\n",
    "#         print(H_diff_tot)\n",
    "    \n",
    "    if H_diff_tot > 0:\n",
    "        return True\n",
    "    else:\n",
    "        return False\n",
    "    \n",
    "def detection(starting_state=0, optimize=True, nbins=10, verbose=False):\n",
    "    pi_pulse=False\n",
    "    rho_s_B=1\n",
    "    rho_s_D=1\n",
    "    reversed_state=False\n",
    "    e_c= 0.0001\n",
    "    current_state = starting_state\n",
    "    n_pi_pulses=0\n",
    "    \n",
    "    bin_time = 200./nbins # in us\n",
    "    mu_B = R_B *bin_time;\n",
    "    mu_D = R_D *bin_time;\n",
    "\n",
    "    for s in range(0,nbins):\n",
    "        current_state, n_photons = update_ion(current_state, pi_pulse, dt=bin_time)\n",
    "        counts = int(round(n_photons)); #PB probability of being bright\n",
    "        if verbose:\n",
    "            print(counts)\n",
    "        if reversed_state:\n",
    "            rho_s_B = update_likelihood(rho_s_B, counts, mu_D)\n",
    "            rho_s_D = update_likelihood(rho_s_D, counts, mu_B)\n",
    "        else:\n",
    "            rho_s_B = update_likelihood(rho_s_B, counts, mu_B)\n",
    "            rho_s_D = update_likelihood(rho_s_D, counts, mu_D)\n",
    "        # calculate errors\n",
    "        eB= rho_s_D/(rho_s_B + rho_s_D)\n",
    "        eD= rho_s_B/(rho_s_B + rho_s_D)\n",
    "         \n",
    "        if min(eB,eD)<e_c:\n",
    "            bright = 1\n",
    "            if rho_s_B < rho_s_D:\n",
    "                bright= 0\n",
    "            return(s+1, bright, n_pi_pulses)\n",
    "        else:\n",
    "            if optimize:\n",
    "                pi_pulse = is_pi_pulse_needed(rho_s_B, rho_s_D,mu_B, mu_D)\n",
    "                if(pi_pulse):\n",
    "                    n_pi_pulses+=1\n",
    "                    reversed_state= not reversed_state\n",
    "                    if verbose:\n",
    "                        print(\"pi pulse needed\")\n",
    "                    \n",
    "    bright = 1\n",
    "    if rho_s_B < rho_s_D:\n",
    "        bright = 0\n",
    "    return (nbins+1, bright,n_pi_pulses)\n",
    "    "
   ]
  },
  {
   "cell_type": "code",
   "execution_count": null,
   "metadata": {},
   "outputs": [],
   "source": [
    "detection(starting_state=0, optimize=True, nbins=20)"
   ]
  },
  {
   "cell_type": "code",
   "execution_count": null,
   "metadata": {},
   "outputs": [],
   "source": [
    "n_trails = 10000\n",
    "n_success_dark = 0\n",
    "n_success_bright = 0\n",
    "n_error_dark = 0\n",
    "n_error_bright = 0\n",
    "\n",
    "for i in range(n_trails):\n",
    "    # choose state\n",
    "    qubit = round(random.random())\n",
    "    if qubit == 0:\n",
    "        bins, predict, n_pi_pulses = detection(starting_state=qubit, optimize=False, nbins=20)\n",
    "        if predict == qubit:\n",
    "            n_success_dark+=1\n",
    "        else:\n",
    "            n_error_dark+=1\n",
    "    else:\n",
    "        bins, predict, n_pi_pulses = detection(starting_state=qubit, optimize=False, nbins=20)\n",
    "        if predict == qubit:\n",
    "            n_success_bright+=1\n",
    "        else:\n",
    "            n_error_bright+=1\n",
    "\n",
    "print(n_success_dark / (n_success_dark + n_error_dark), n_success_bright / (n_success_bright + n_error_bright))\n",
    "    "
   ]
  },
  {
   "cell_type": "code",
   "execution_count": null,
   "metadata": {},
   "outputs": [],
   "source": [
    "stats_sample = {'a': 1, 'b': 2}\n",
    "stats_tot = {}\n",
    "for key in stats_sample.keys():\n",
    "    stats_tot[key+'1'] = np.array([])\n",
    "    \n",
    "print(stats_tot)\n",
    "\n",
    "for i in range(10):\n",
    "    rand1 = round(random.random() * 5)\n",
    "    rand2 = round(random.random() * 5)\n",
    "    stats_i = {'a': rand1, 'b': rand2}\n",
    "    for key in stats_i.keys():\n",
    "        stats_tot[key] = np.append(stats_tot[key], stats_i[key])\n",
    "print(stats_tot)"
   ]
  },
  {
   "cell_type": "code",
   "execution_count": null,
   "metadata": {},
   "outputs": [],
   "source": [
    "print(stats_tot['a'])"
   ]
  },
  {
   "cell_type": "code",
   "execution_count": 21,
   "metadata": {},
   "outputs": [
    {
     "name": "stdout",
     "output_type": "stream",
     "text": [
      "[<PyonDetect.ion.ion.CalciumIon object at 0x7fd0a25cc1d0>, <PyonDetect.ion.ion.CalciumIon object at 0x7fd0a25cc1d0>, <PyonDetect.ion.ion.CalciumIon object at 0x7fd0a25cc1d0>]\n"
     ]
    }
   ],
   "source": [
    "ion1 = CalciumIon()\n",
    "ion2 = CalciumIon()\n",
    "ion_list = [ion1, ion1, ion1]\n",
    "print(ion_list)"
   ]
  },
  {
   "cell_type": "code",
   "execution_count": 22,
   "metadata": {},
   "outputs": [],
   "source": [
    "def unique_instances(list_instances):\n",
    "    unique_instances = []\n",
    "    for inst in list_instances:\n",
    "        if inst in unique_instances:\n",
    "            continue\n",
    "        else:\n",
    "            unique_instances.append(inst)\n",
    "        \n",
    "    return unique_instances"
   ]
  },
  {
   "cell_type": "code",
   "execution_count": 23,
   "metadata": {},
   "outputs": [
    {
     "name": "stdout",
     "output_type": "stream",
     "text": [
      "[<PyonDetect.ion.ion.CalciumIon object at 0x7fd0a25cc1d0>]\n"
     ]
    }
   ],
   "source": [
    "unique_inst = unique_instances(ion_list)\n",
    "print(unique_inst)"
   ]
  },
  {
   "cell_type": "code",
   "execution_count": null,
   "metadata": {},
   "outputs": [],
   "source": [
    "for i in range(20):\n",
    "    print(i)\n",
    "    if i == 5:\n",
    "        break"
   ]
  },
  {
   "cell_type": "code",
   "execution_count": 1,
   "metadata": {},
   "outputs": [],
   "source": [
    "from PyonDetect.ion.ion import BerylliumIon, CalciumIon\n",
    "from PyonDetect.estimator.estimator import EntropyGainEstimator, ThresholdingEstimator, AdaptiveMLEstimator, NonPoissonianAdaptiveMLEstimator\n",
    "from PyonDetect.environment.environment import SimulationEnvironment"
   ]
  },
  {
   "cell_type": "code",
   "execution_count": 24,
   "metadata": {},
   "outputs": [
    {
     "name": "stdout",
     "output_type": "stream",
     "text": [
      "[<PyonDetect.ion.ion.CalciumIon object at 0x7fd0a25dd750>] [<PyonDetect.ion.ion.CalciumIon object at 0x7fd0a25dd750>] [<PyonDetect.estimator.estimator.EntropyGainEstimator object at 0x7fd0a25dd710>] [<PyonDetect.estimator.estimator.EntropyGainEstimator object at 0x7fd0a25dd710>]\n",
      "{'prediction': None, 'n_subbins': 0, 'n_pi_pulses': 0, 'n_photons_tot': 0}\n"
     ]
    }
   ],
   "source": [
    "n_bins = 20\n",
    "t_detection = 200\n",
    "tau_db = 1 * 5e2 # in us \n",
    "tau_bd = 2 * 1e5 # in us\n",
    "ion = CalciumIon(initial_state = 1)\n",
    "estimator = EntropyGainEstimator(R_D = 0.1/200, R_B = 25/200, e_c=5e-4, n_subbins_max=n_bins, n_counts_max=10)\n",
    "estimator_1 = AdaptiveMLEstimator(R_D = 0.1/200, R_B = 25/200, e_c=5e-4, n_subbins_max=n_bins)\n",
    "estimator_2 = NonPoissonianAdaptiveMLEstimator(R_D = 0.1/200, R_B = 25/200, e_c=5e-4, tau_db=tau_db, tau_bd=tau_bd, n_subbins_max=n_bins)\n",
    "\n",
    "env = SimulationEnvironment([ion], [estimator], detection_time=t_detection, n_subbins = n_bins, n_repetition=10000, verbose=True)\n",
    "env.repeat_single_shots()"
   ]
  },
  {
   "cell_type": "code",
   "execution_count": 17,
   "metadata": {},
   "outputs": [
    {
     "name": "stdout",
     "output_type": "stream",
     "text": [
      "     prediction_0  n_subbins_0  n_pi_pulses_0  n_photons_tot_0\n",
      "0             1.0          2.0            1.0              3.0\n",
      "1             1.0          6.0            5.0              2.0\n",
      "2             1.0          2.0            1.0              2.0\n",
      "3             1.0         10.0            9.0              3.0\n",
      "4             1.0          3.0            1.0              6.0\n",
      "..            ...          ...            ...              ...\n",
      "995           1.0          2.0            1.0              2.0\n",
      "996           1.0          2.0            1.0              3.0\n",
      "997           1.0         12.0            9.0              4.0\n",
      "998           1.0          7.0            5.0              3.0\n",
      "999           1.0          8.0            5.0              3.0\n",
      "\n",
      "[1000 rows x 4 columns]\n"
     ]
    },
    {
     "data": {
      "text/plain": [
       "'EntropyGain'"
      ]
     },
     "execution_count": 17,
     "metadata": {},
     "output_type": "execute_result"
    }
   ],
   "source": [
    "env.save_to_csv()\n",
    "estimator.get_estimator_type()"
   ]
  },
  {
   "cell_type": "code",
   "execution_count": 22,
   "metadata": {},
   "outputs": [
    {
     "name": "stdout",
     "output_type": "stream",
     "text": [
      "18 18\n"
     ]
    }
   ],
   "source": [
    "from PyonDetect.ion.ion import BerylliumIon, CalciumIon\n",
    "from PyonDetect.estimator.estimator import EntropyGainEstimator, ThresholdingEstimator, AdaptiveMLEstimator, NonPoissonianAdaptiveMLEstimator\n",
    "from PyonDetect.environment.environment import SimulationEnvironment\n",
    "import multiprocessing as mp\n",
    "def run_multiple_environments(ion_list, estimator_list, n_bins, initial_state):\n",
    "    ion = CalciumIon(initial_state = initial_state)\n",
    "    estimator = EntropyGainEstimator(R_D = 0.1/200, R_B = 25/200, e_c=5e-4, n_subbins_max=n_bins, n_counts_max=10)\n",
    "    env = SimulationEnvironment([ion], [estimator], detection_time=200, n_subbins = n_bins, n_repetition=100)\n",
    "    env.repeat_single_shots()\n",
    "    return env.get_stats()\n",
    "    \n",
    "n_bins = np.arange(3, 21)\n",
    "initial_state = np.repeat(1, len(n_bins))\n",
    "print(len(initial_state), len(n_bins))\n",
    "with mp.Pool(mp.cpu_count()) as p:\n",
    "    res = p.starmap(run_multiple_environments, zip(n_bins, initial_state))\n",
    "    \n"
   ]
  },
  {
   "cell_type": "code",
   "execution_count": 29,
   "metadata": {},
   "outputs": [
    {
     "name": "stdout",
     "output_type": "stream",
     "text": [
      "{'prediction_0': array([1., 1., 1., 1., 1., 1., 1., 1., 1., 1., 1., 1., 1., 1., 1., 1., 1.,\n",
      "       1., 1., 1., 1., 1., 1., 1., 1., 1., 1., 1., 1., 1., 1., 1., 1., 1.,\n",
      "       1., 1., 1., 1., 1., 1., 1., 1., 1., 1., 1., 1., 1., 1., 1., 1., 1.,\n",
      "       1., 1., 1., 1., 1., 1., 1., 1., 1., 1., 1., 1., 1., 1., 1., 1., 1.,\n",
      "       1., 1., 1., 1., 1., 1., 1., 1., 1., 1., 1., 1., 1., 1., 1., 1., 1.,\n",
      "       1., 1., 1., 1., 1., 1., 1., 1., 1., 1., 1., 1., 1., 1., 1.]), 'n_subbins_0': array([ 3.,  6.,  3.,  4.,  3.,  6.,  2.,  2.,  4.,  4.,  2.,  5.,  5.,\n",
      "        2.,  7.,  2.,  2.,  2.,  2.,  2.,  6.,  4.,  5.,  2.,  4.,  2.,\n",
      "        3.,  3.,  3.,  2.,  5.,  3.,  5.,  2.,  3.,  5.,  4.,  2., 10.,\n",
      "        3.,  8.,  5.,  2.,  4.,  3.,  4.,  2., 10.,  2.,  3.,  4.,  4.,\n",
      "        7.,  3.,  5.,  3.,  5.,  3.,  2.,  2.,  4.,  6.,  4.,  5.,  3.,\n",
      "        2.,  3.,  3.,  3.,  2.,  4.,  6.,  4.,  3.,  2.,  2.,  3.,  4.,\n",
      "        6.,  2.,  5.,  4.,  8.,  3.,  2.,  4.,  4.,  2.,  2.,  6.,  6.,\n",
      "        2.,  6.,  2.,  2.,  8.,  2.,  4.,  3.,  2.]), 'n_pi_pulses_0': array([1., 3., 1., 1., 1., 5., 1., 1., 3., 1., 1., 3., 3., 1., 5., 1., 1.,\n",
      "       1., 1., 1., 5., 3., 3., 1., 1., 1., 1., 1., 1., 1., 3., 1., 3., 1.,\n",
      "       1., 3., 3., 1., 4., 1., 7., 3., 1., 3., 1., 1., 1., 4., 1., 1., 1.,\n",
      "       1., 5., 1., 3., 1., 3., 1., 1., 1., 1., 3., 3., 3., 1., 1., 1., 1.,\n",
      "       1., 1., 3., 3., 3., 1., 1., 1., 1., 1., 5., 1., 3., 1., 2., 1., 1.,\n",
      "       3., 1., 1., 1., 3., 3., 1., 5., 1., 1., 2., 1., 3., 1., 1.]), 'n_photons_tot_0': array([2., 2., 3., 2., 2., 3., 2., 2., 2., 2., 2., 2., 2., 3., 3., 3., 2.,\n",
      "       2., 2., 2., 2., 3., 2., 3., 3., 3., 3., 2., 2., 2., 2., 3., 3., 3.,\n",
      "       3., 2., 3., 4., 1., 4., 2., 2., 3., 2., 3., 3., 2., 1., 4., 4., 4.,\n",
      "       2., 3., 2., 2., 2., 3., 3., 2., 3., 3., 4., 2., 2., 2., 2., 2., 2.,\n",
      "       2., 2., 2., 2., 2., 2., 4., 2., 3., 2., 2., 3., 3., 3., 1., 2., 2.,\n",
      "       2., 4., 2., 2., 2., 4., 4., 2., 2., 3., 1., 3., 2., 3., 3.])}\n"
     ]
    }
   ],
   "source": [
    "print(res[17])"
   ]
  },
  {
   "cell_type": "code",
   "execution_count": null,
   "metadata": {},
   "outputs": [],
   "source": [
    "import numpy as np\n",
    "int(round(np.random.poisson(10)))"
   ]
  },
  {
   "cell_type": "code",
   "execution_count": 7,
   "metadata": {},
   "outputs": [
    {
     "data": {
      "text/plain": [
       "array([ 3,  3,  3,  4,  4,  4,  5,  5,  5,  6,  6,  6,  7,  7,  7,  8,  8,\n",
       "        8,  9,  9,  9, 10, 10, 10, 11, 11, 11, 12, 12, 12, 13, 13, 13, 14,\n",
       "       14, 14, 15, 15, 15, 16, 16, 16, 17, 17, 17, 18, 18, 18, 19, 19, 19,\n",
       "       20, 20, 20])"
      ]
     },
     "execution_count": 7,
     "metadata": {},
     "output_type": "execute_result"
    }
   ],
   "source": []
  },
  {
   "cell_type": "code",
   "execution_count": null,
   "metadata": {},
   "outputs": [],
   "source": []
  }
 ],
 "metadata": {
  "kernelspec": {
   "display_name": "Python 3",
   "language": "python",
   "name": "python3"
  },
  "language_info": {
   "codemirror_mode": {
    "name": "ipython",
    "version": 3
   },
   "file_extension": ".py",
   "mimetype": "text/x-python",
   "name": "python",
   "nbconvert_exporter": "python",
   "pygments_lexer": "ipython3",
   "version": "3.7.4"
  }
 },
 "nbformat": 4,
 "nbformat_minor": 5
}
