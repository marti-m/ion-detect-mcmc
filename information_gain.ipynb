{
 "cells": [
  {
   "cell_type": "code",
   "execution_count": 1,
   "metadata": {
    "ExecuteTime": {
     "end_time": "2019-10-28T08:07:15.631772Z",
     "start_time": "2019-10-28T08:07:13.762971Z"
    }
   },
   "outputs": [],
   "source": [
    "import numpy as np\n",
    "from math import factorial\n",
    "import random\n",
    "from multiprocessing import Pool\n",
    "from scipy.stats import poisson\n",
    "import matplotlib.pyplot as plt\n"
   ]
  },
  {
   "cell_type": "code",
   "execution_count": 2,
   "metadata": {
    "ExecuteTime": {
     "end_time": "2019-10-28T08:07:15.640827Z",
     "start_time": "2019-10-28T08:07:15.635558Z"
    }
   },
   "outputs": [],
   "source": [
    "def update_likelihood(rho_previous, new_counts, mu):\n",
    "    \"\"\" at step S the likelihood is the product of poissonian distribution\"\"\"\n",
    "    return rho_previous * poisson.pmf(new_counts,mu)\n",
    "\n",
    "def get_probabilities(rho_D, rho_B):\n",
    "    \"\"\"The probability of being bright is calculated with bayes rule.\"\"\"\n",
    "    s = rho_D + rho_B\n",
    "    return (rho_D/s, rho_B/s)\n",
    "\n",
    "def get_entropy(PD, PB):\n",
    "    \"\"\"returns the expected entropy value given the probability distribution\"\"\"\n",
    "    H = -( PD*np.log(PD) + PB*np.log(PB)) \n",
    "    return H\n",
    "\n",
    "    "
   ]
  },
  {
   "cell_type": "code",
   "execution_count": 3,
   "metadata": {
    "ExecuteTime": {
     "end_time": "2019-10-28T08:07:15.652951Z",
     "start_time": "2019-10-28T08:07:15.643325Z"
    }
   },
   "outputs": [],
   "source": [
    "def detect_bin(PB, mu_B, mu_D):\n",
    "    # throw a coin to decide if it is bright or dark according to PB\n",
    "    print(PB)\n",
    "    p = random.random()\n",
    "    if PB<0.5:\n",
    "        if p<PB: #means the ion is Bright\n",
    "            return np.random.poisson(mu_B)\n",
    "        else:\n",
    "            return np.random.poisson(mu_D)\n",
    "    else:\n",
    "        if p<(1-PB):#means the ion is dark\n",
    "             return np.random.poisson(mu_D)\n",
    "        else:\n",
    "            return np.random.poisson(mu_B)\n"
   ]
  },
  {
   "cell_type": "code",
   "execution_count": 4,
   "metadata": {
    "ExecuteTime": {
     "end_time": "2019-10-28T09:47:02.481271Z",
     "start_time": "2019-10-28T09:47:02.477599Z"
    }
   },
   "outputs": [],
   "source": [
    "\n",
    "def is_pi_pulse_needed(rho_smin_B, rho_smin_D, mu_B, mu_D):\n",
    "    \"\"\"rho_smin_B, rho_smin_D are the likelihood at the previous step\"\"\"\n",
    "    H_diff_tot=0\n",
    "    max_n=10\n",
    "    for ns in range(0,max_n):\n",
    "        # calculate the possible likelihoods if we apply or not a pi pulse\n",
    "        rho_s_B = update_likelihood(rho_smin_B, ns, mu_B)\n",
    "        rho_s_D = update_likelihood(rho_smin_D, ns, mu_D)\n",
    "        \n",
    "        rho_sPi_B = update_likelihood(rho_smin_B, ns, mu_D) # if we were to apply a pi pulse\n",
    "        rho_sPi_D = update_likelihood(rho_smin_D, ns, mu_B)\n",
    "        # calculate the associated probabilities\n",
    "        (P_s_D, P_s_B) = get_probabilities(rho_s_D, rho_s_B)\n",
    "        (P_sPi_D, P_sPi_B) = get_probabilities(rho_sPi_D, rho_sPi_B)\n",
    "        \n",
    "        #calculate the entropies\n",
    "        H_s = get_entropy(P_s_D, P_s_B)\n",
    "        H_sPi = get_entropy(P_sPi_D, P_sPi_B)\n",
    "        \n",
    "        H_diff_tot =H_diff_tot + (H_sPi- H_s)*(poisson.pmf(ns,mu_B)+poisson.pmf(ns,mu_D))\n",
    "#         print(H_diff_tot)\n",
    "    \n",
    "    if H_diff_tot > 0:\n",
    "        return True\n",
    "    else:\n",
    "        return False\n"
   ]
  },
  {
   "cell_type": "code",
   "execution_count": 5,
   "metadata": {
    "ExecuteTime": {
     "end_time": "2019-10-28T08:15:55.117905Z",
     "start_time": "2019-10-28T08:15:55.111154Z"
    }
   },
   "outputs": [],
   "source": [
    "rho_s_B=1\n",
    "rho_s_D=1\n",
    "\n",
    "def detection(PB, optimize, nbins):\n",
    "    pi_pulse=False\n",
    "    rho_s_B=1\n",
    "    rho_s_D=1\n",
    "    reversed_state=False\n",
    "    e_c= 0.0001\n",
    "    n_pi_pulses=0\n",
    "    \n",
    "    bin_time = 200./nbins # in us\n",
    "    mu_B = R_B *bin_time;\n",
    "    mu_D = R_D *bin_time;\n",
    "\n",
    "    for s in range(0,nbins):\n",
    "        counts = int(round(detect_bin(PB, mu_B, mu_D))); #PB probability of being bright \n",
    "        print(counts)\n",
    "        if reversed_state:\n",
    "            rho_s_B = update_likelihood(rho_s_B, counts, mu_D)\n",
    "            rho_s_D = update_likelihood(rho_s_D, counts, mu_B)\n",
    "        else:\n",
    "            rho_s_B = update_likelihood(rho_s_B, counts, mu_B)\n",
    "            rho_s_D = update_likelihood(rho_s_D, counts, mu_D)\n",
    "        # calculate errors\n",
    "        eB= rho_s_D/(rho_s_B + rho_s_D)\n",
    "        eD= rho_s_B/(rho_s_B + rho_s_D)\n",
    "        if min(eB,eD)<e_c:\n",
    "            bright = 1\n",
    "            if rho_s_B < rho_s_D:\n",
    "                bright= 0\n",
    "            return(s, bright, n_pi_pulses)\n",
    "        else:\n",
    "            if optimize:\n",
    "                need_pi_pulse = is_pi_pulse_needed(rho_s_B, rho_s_D,mu_B, mu_D)\n",
    "                if(need_pi_pulse):\n",
    "                    if PB==1:\n",
    "                        F=1\n",
    "                        PB= F*(1-PB)\n",
    "                    PB=(1-PB)\n",
    "                    n_pi_pulses+=1\n",
    "                    reversed_state= not reversed_state\n",
    "                    \n",
    "    bright = 1\n",
    "    if rho_s_B < rho_s_D:\n",
    "        bright = 0\n",
    "    return (nbins, bright,n_pi_pulses)\n",
    "        \n",
    "\n"
   ]
  },
  {
   "cell_type": "code",
   "execution_count": 1,
   "metadata": {
    "ExecuteTime": {
     "end_time": "2019-10-28T08:15:56.192498Z",
     "start_time": "2019-10-28T08:15:56.186779Z"
    }
   },
   "outputs": [],
   "source": [
    "def repeated_detection(Pb, rep, bins, optimize):\n",
    "    a_Pb = np.full(rep, Pb)\n",
    "    a_optimize = np.full(rep, optimize)\n",
    "    a_bins = np.full(rep, bins)\n",
    "    with Pool(8) as p:  # Pool(n cores)\n",
    "        res_list = p.starmap(detection, zip(a_Pb, a_optimize, a_bins))\n",
    "        \n",
    "    bins_mean=np.mean(list(zip(*res_list))[0])\n",
    "    p_mean=np.mean(list(zip(*res_list))[1])\n",
    "    n_pulses=np.mean(list(zip(*res_list))[2])\n",
    "    \n",
    "    return (p_mean,bins_mean,n_pulses)"
   ]
  },
  {
   "cell_type": "code",
   "execution_count": null,
   "metadata": {},
   "outputs": [
    {
     "name": "stdout",
     "output_type": "stream",
     "text": [
      "[1 1 1 1 1 1 1 1 1 1]\n"
     ]
    }
   ],
   "source": [
    "repeated_detection(1, 10, 20, True) "
   ]
  },
  {
   "cell_type": "code",
   "execution_count": null,
   "metadata": {
    "ExecuteTime": {
     "end_time": "2019-10-30T08:06:40.718191Z",
     "start_time": "2019-10-30T08:05:52.966395Z"
    }
   },
   "outputs": [],
   "source": [
    "rep=100\n",
    "max_bins = 50\n",
    "min_bins= 5\n",
    "det_mean = np.zeros(max_bins-min_bins)\n",
    "det_t_mean = np.zeros(max_bins-min_bins)\n",
    "det_n_mean = np.zeros(max_bins-min_bins)\n",
    "det_mean_std = np.zeros(max_bins-min_bins)\n",
    "det_t_mean_std = np.zeros(max_bins-min_bins)\n",
    "\n",
    "det_mean_noPi= np.zeros(max_bins-min_bins)\n",
    "det_t_mean_noPi = np.zeros(max_bins-min_bins)\n",
    "det_n_mean_noPi = np.zeros(max_bins-min_bins)\n",
    "det_mean_std_noPi = np.zeros(max_bins-min_bins)\n",
    "det_t_mean_std_noPi = np.zeros(max_bins-min_bins)\n",
    "\n",
    "det_mean_dark = np.zeros(max_bins-min_bins)\n",
    "det_t_mean_dark = np.zeros(max_bins-min_bins)\n",
    "det_n_mean_dark = np.zeros(max_bins-min_bins)\n",
    "det_mean_std_dark = np.zeros(max_bins-min_bins)\n",
    "det_t_mean_std_dark = np.zeros(max_bins-min_bins)\n",
    "\n",
    "det_mean_noPi_dark= np.zeros(max_bins-min_bins)\n",
    "det_t_mean_noPi_dark = np.zeros(max_bins-min_bins)\n",
    "det_n_mean_noPi_dark = np.zeros(max_bins-min_bins)\n",
    "det_mean_std_noPi_dark = np.zeros(max_bins-min_bins)\n",
    "det_t_mean_std_noPi_dark = np.zeros(max_bins-min_bins)\n",
    "\n",
    "R_B= 25 /200  #Bright state rate counts per 200us detection time\n",
    "R_D= 0.1 /200\n",
    "\n",
    "\n",
    "for bins in range(min_bins,max_bins):   \n",
    "    res = repeated_detection(1, rep, bins, True)     \n",
    "    det_mean[bins-min_bins] = res[0] \n",
    "    det_t_mean[bins-min_bins] = res[1]*200/bins\n",
    "    det_n_mean[bins-min_bins] = res[2] \n",
    "        \n",
    "    res = repeated_detection(1, rep, bins, False)\n",
    "\n",
    "    det_mean_noPi[bins-min_bins] = res[0] \n",
    "    det_t_mean_noPi[bins-min_bins] = res[1]*200/bins\n",
    "    det_n_mean_noPi[bins-min_bins] = res[2] \n",
    "    \n",
    "    res = repeated_detection(0, rep, bins, True)     \n",
    "    det_mean_dark[bins-min_bins] = res[0] \n",
    "    det_t_mean_dark[bins-min_bins] = res[1]*200/bins\n",
    "    det_n_mean_dark[bins-min_bins] = res[2] \n",
    "        \n",
    "    res = repeated_detection(0, rep, bins, False)\n",
    "\n",
    "    det_mean_noPi_dark[bins-min_bins] = res[0] \n",
    "    det_t_mean_noPi_dark[bins-min_bins] = res[1]*200/bins\n",
    "    det_n_mean_noPi_dark[bins-min_bins] = res[2] \n",
    "\n",
    "\n",
    "    "
   ]
  },
  {
   "cell_type": "code",
   "execution_count": null,
   "metadata": {
    "ExecuteTime": {
     "end_time": "2019-10-30T08:06:40.909918Z",
     "start_time": "2019-10-30T08:06:40.720850Z"
    }
   },
   "outputs": [],
   "source": [
    "plt.plot(range(min_bins, max_bins), det_t_mean,range(min_bins, max_bins), det_t_mean_noPi)\n",
    "bright_mean"
   ]
  },
  {
   "cell_type": "code",
   "execution_count": null,
   "metadata": {
    "ExecuteTime": {
     "end_time": "2019-10-30T08:06:41.002442Z",
     "start_time": "2019-10-30T08:06:40.911150Z"
    }
   },
   "outputs": [],
   "source": [
    "plt.plot(range(min_bins, max_bins), det_t_mean_dark,range(min_bins, max_bins), det_t_mean_noPi_dark)\n",
    "bright_mean"
   ]
  },
  {
   "cell_type": "code",
   "execution_count": null,
   "metadata": {
    "ExecuteTime": {
     "end_time": "2018-09-17T16:47:17.134702Z",
     "start_time": "2018-09-17T16:47:16.925609Z"
    }
   },
   "outputs": [],
   "source": [
    "plt.plot(range(min_bins, max_bins), t_mean,range(min_bins, max_bins), t_mean_std)"
   ]
  },
  {
   "cell_type": "code",
   "execution_count": null,
   "metadata": {
    "ExecuteTime": {
     "end_time": "2018-09-17T16:47:17.519535Z",
     "start_time": "2018-09-17T16:47:17.136174Z"
    }
   },
   "outputs": [],
   "source": [
    "plt.plot(range(min_bins, max_bins), n_mean)"
   ]
  },
  {
   "cell_type": "code",
   "execution_count": null,
   "metadata": {
    "ExecuteTime": {
     "end_time": "2018-09-17T15:40:23.906477Z",
     "start_time": "2018-09-17T15:40:23.900831Z"
    }
   },
   "outputs": [],
   "source": [
    "np.mean(list(zip(*res_list))[0])\n",
    "np.mean(list(zip(*res_list))[1])"
   ]
  },
  {
   "cell_type": "code",
   "execution_count": null,
   "metadata": {
    "ExecuteTime": {
     "end_time": "2018-09-17T16:43:46.506216Z",
     "start_time": "2018-09-17T16:43:46.503268Z"
    }
   },
   "outputs": [],
   "source": [
    "pb_mean"
   ]
  },
  {
   "cell_type": "code",
   "execution_count": 2,
   "metadata": {
    "ExecuteTime": {
     "end_time": "2018-09-17T16:47:17.524567Z",
     "start_time": "2018-09-17T16:47:17.521001Z"
    }
   },
   "outputs": [
    {
     "ename": "NameError",
     "evalue": "name 'pb_mean' is not defined",
     "output_type": "error",
     "traceback": [
      "\u001b[0;31m---------------------------------------------------------------------------\u001b[0m",
      "\u001b[0;31mNameError\u001b[0m                                 Traceback (most recent call last)",
      "\u001b[0;32m<ipython-input-2-5f61e26408a9>\u001b[0m in \u001b[0;36m<module>\u001b[0;34m\u001b[0m\n\u001b[0;32m----> 1\u001b[0;31m \u001b[0mpb_mean\u001b[0m\u001b[0;34m\u001b[0m\u001b[0;34m\u001b[0m\u001b[0m\n\u001b[0m",
      "\u001b[0;31mNameError\u001b[0m: name 'pb_mean' is not defined"
     ]
    }
   ],
   "source": [
    "pb_mean"
   ]
  },
  {
   "cell_type": "code",
   "execution_count": 6,
   "metadata": {},
   "outputs": [
    {
     "data": {
      "text/plain": [
       "4"
      ]
     },
     "execution_count": 6,
     "metadata": {},
     "output_type": "execute_result"
    }
   ],
   "source": [
    "mp.cpu_count()"
   ]
  },
  {
   "cell_type": "code",
   "execution_count": 5,
   "metadata": {},
   "outputs": [],
   "source": [
    "import multiprocessing as mp"
   ]
  },
  {
   "cell_type": "code",
   "execution_count": null,
   "metadata": {},
   "outputs": [],
   "source": []
  }
 ],
 "metadata": {
  "kernelspec": {
   "display_name": "Python 3",
   "language": "python",
   "name": "python3"
  },
  "language_info": {
   "codemirror_mode": {
    "name": "ipython",
    "version": 3
   },
   "file_extension": ".py",
   "mimetype": "text/x-python",
   "name": "python",
   "nbconvert_exporter": "python",
   "pygments_lexer": "ipython3",
   "version": "3.7.4"
  }
 },
 "nbformat": 4,
 "nbformat_minor": 2
}
